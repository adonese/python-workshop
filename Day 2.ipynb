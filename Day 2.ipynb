{
 "cells": [
  {
   "cell_type": "markdown",
   "metadata": {},
   "source": [
    "# Starting our journey with Python"
   ]
  },
  {
   "cell_type": "markdown",
   "metadata": {},
   "source": [
    "## Let us use Python as a calculator"
   ]
  },
  {
   "cell_type": "code",
   "execution_count": 2,
   "metadata": {},
   "outputs": [
    {
     "data": {
      "text/plain": [
       "2"
      ]
     },
     "execution_count": 2,
     "metadata": {},
     "output_type": "execute_result"
    }
   ],
   "source": [
    "1 + 1"
   ]
  },
  {
   "cell_type": "code",
   "execution_count": 3,
   "metadata": {
    "collapsed": true
   },
   "outputs": [],
   "source": [
    "1 / 2\n",
    "a = 32 ** 3 # you can assign *things* to some variable"
   ]
  },
  {
   "cell_type": "code",
   "execution_count": 4,
   "metadata": {
    "collapsed": true
   },
   "outputs": [],
   "source": [
    "# You can of course, call the variable in later computations\n",
    "b = a + 2\n",
    "# and so on and so forth."
   ]
  },
  {
   "cell_type": "markdown",
   "metadata": {},
   "source": [
    "You can also do \\($sqrt, sin, cos$\\), etc. But that does require\n",
    "an extra step. In python, `module` are not imported in the global name space\n",
    "by default. You have to explicitly call them. That might be annoying if you came\n",
    "from Matlab and have not tried anything else, however, you really come to appreciate it.\n",
    "\n",
    "Python has this thing call [zen of Python](https://en.wikipedia.org/wiki/Zen_of_Python). Which is a collection of software design principles related to Python. One of them--which is related to our talk-- is \n",
    "<html>\n",
    "<blockquote>explicit is better than implicit</blockquote>\n",
    "</html>\n",
    "\n",
    "You can call ``zen`` command from within the Python command line to see the other zens.\n",
    "\n",
    "Back to our previous discussion about _other_ math functions, we said that you cannot just try and do something like this in Python\n",
    "```python\n",
    ">>> a = sqrt(4343)\n",
    "```\n",
    "that will raise an error (NameError: name 'sqrt' is not defined). In this case, Python complaints about `sqrt`. He is telling you that: \"dude I really do not have a clue about this thing!\".\n",
    "\n",
    "You have to explicitly import math library, or import specific functions from that library e.g.,\n",
    "\n",
    "```python\n",
    ">>> import math\n",
    ">>> # and then do stuffs like this\n",
    ">>> a = math.sqrt(4343)\n",
    "```\n",
    "Or, you can also do something like this.\n",
    "\n",
    "```python\n",
    ">>> from math import sqrt\n",
    ">>> a = sqrt(4343)\n",
    "```\n",
    "and it will run like a charm."
   ]
  },
  {
   "cell_type": "markdown",
   "metadata": {},
   "source": [
    "## Type of numbers in Python"
   ]
  },
  {
   "cell_type": "markdown",
   "metadata": {},
   "source": [
    "Numbers in Python are represented in different ways. Integers are represented as `int` type, floating point numbers are represented by `float` type. You can of course, cast from one type to another and perform different operations on them. You can use the method (aka function `type` to check the type of any `object` (aka thing) in Python"
   ]
  },
  {
   "cell_type": "code",
   "execution_count": 11,
   "metadata": {
    "collapsed": true
   },
   "outputs": [],
   "source": [
    "from math import sqrt"
   ]
  },
  {
   "cell_type": "code",
   "execution_count": 13,
   "metadata": {},
   "outputs": [
    {
     "data": {
      "text/plain": [
       "float"
      ]
     },
     "execution_count": 13,
     "metadata": {},
     "output_type": "execute_result"
    }
   ],
   "source": [
    "a = 4.5\n",
    "sqrt(a) == 4.5**0.5\n",
    "type(a)"
   ]
  },
  {
   "cell_type": "markdown",
   "metadata": {},
   "source": [
    "# Data containers in Python\n",
    "Enough with numbers and strings. Let us move to other type of data structures in Python. Suppose that I've this data of some students assignments of some unknown University)\n",
    "\n",
    "| Name | Degree |\n",
    "---------|-------------\n",
    "| Amin Khalid | 4.43\n",
    "| Tarig Ahmed | 6.43\n",
    "| Ahmed Abdalla | 8.53\n",
    "| Omer Manning | 6.53\n",
    "| Mohamed Yousif | 9.4\n",
    "| Ahmed Mohamed | 7.5\n",
    "| Amjad Mukhtar | 4.3\n",
    "|Ameer Osama | 0.43\n",
    "| ... | ...\n",
    "------------------------\n",
    "and there are of course plenty of other results. Now, let us try to make this example more real.\n",
    "\n",
    "Ass 1 | Ass 2 | Ass 3 |...\n",
    "--------| ------| --------\n",
    "4.43 | 5.454 | 3.454 \n",
    "5.54 | 4.5 | 2.67\n",
    "7.3 | 5.67 | 4.54\n",
    "\n",
    "------------------------------\n",
    "\n",
    "I want to compute the average degree of this guys assignments. How can we solve this problem? What are the steps of solving this problem?\n",
    "\n",
    "I would argue that we have first to use a proper data structure to contain these values. Ideally representing them as a table would be very great, however, now let us go with a less sophisticated tool than that.\n",
    "We want to represent them like this:\n",
    "\n",
    "```python\n",
    ">>> assignments = [4.43, 5.54, 7.4; 5.454, 4.5, 5.67; 3.454, 2.67, 4.54]\n",
    "```\n",
    "That will work well in Matlab, and you will get a matrix like this\n",
    "```\n",
    "4.43  5.54 7.4\n",
    "5.454 4.5  5.67\n",
    "3.454 2.67 4.54\n",
    "```\n",
    "However, in Python things are a bit different.\n"
   ]
  },
  {
   "cell_type": "markdown",
   "metadata": {},
   "source": [
    "### Approach 1\n",
    "\n",
    "The first approach is to use a list and a bit of slicing magic to do that. You can also use several lists, one for each assignemt, however, remember that you have 40~50 students, with 5 assignments for each, that will need a lot of variables ==> not a good idea.\n",
    "\n",
    "```python\n",
    ">>> assignments = [4.43, 5.54, 7.4, 5.454, 4.5, 5.67, 3.454, 2.67, 4.54]\n",
    "```"
   ]
  },
  {
   "cell_type": "markdown",
   "metadata": {},
   "source": [
    "We want to ![lists.png](lists_1.png)"
   ]
  },
  {
   "cell_type": "markdown",
   "metadata": {},
   "source": [
    "# What is a list?\n",
    "A list is a data structure (container) in Python that can holds arbitrary objects e.g., numbers, strings, and even lists and others. \n",
    "```python\n",
    ">>> assignments = [4.43, 5.54, 7.4, 5.454, 4.5, 5.67, 3.454, 2.67, 4.54]\n",
    "```\n",
    "Now, we have a variable `assignments` that contains a list of a student grades. "
   ]
  },
  {
   "cell_type": "code",
   "execution_count": 15,
   "metadata": {
    "collapsed": true
   },
   "outputs": [],
   "source": [
    "assignments = [4.43, 5.54, 7.4, 5.454, 4.5, 5.67, 3.454, 2.67, 4.54]\n"
   ]
  },
  {
   "cell_type": "markdown",
   "metadata": {},
   "source": [
    "We want to take that list, take the average of each assignment, then sum thems together. Hopefully this becomes more clearer now? This can be done very simple like this\n",
    "\n",
    "```python\n",
    ">>> student_average = sum(assignments[:3]) / 3 + sum(assignments[3:6]) / 3 + sum(assignments[6:]) / 3\n",
    "```\n",
    "The previous code is not the most best way of dealing with this, but haay we are getting there!\n",
    "\n",
    "Note: sum is a method that takes an *iterator* (we will get to what an iterator means later), and computes the sum of it.\n"
   ]
  },
  {
   "cell_type": "markdown",
   "metadata": {},
   "source": [
    "Well, I really do not like this thing! Suppose that I want to do compute the final result for each student in each course. That would be a lot. I will add a final modification for this example. We have mentioned that lists can contain other lists? Can you check if that is true?\n",
    "\n",
    "How about changing our data structure to be like this (we are still using a list, though)\n",
    "\n",
    "```python\n",
    ">>> assignments = [[4.43, 5.54, 7.4], [5.454, 4.5, 5.67], [3.454, 2.67, 4.54]]\n",
    "```\n",
    "We can pull out elements from list the same way we did with strings, can you confirm that? (In Matlab it is not like that! There is a different syntax to extract elements from a matrix or a cell array. Consisteny matters!\n",
    "\n",
    "<p style=\"color: blue;\">Quiz 1</p>Try to extract the first element of this list? It is easy isn't it? Remember that the first item of that list corresponds to the first student's assignment.\n",
    "\n",
    "Using our new represention of students grades, we can solve this problem as following\n",
    "\n",
    "```python\n",
    ">>> assignments_average = sum(assignmets[0])/len(assignments[0]) + sum(assignments[1])/len(assignments[1]) + sum(assignments[2])/len(assignments[2])\n",
    "```\n",
    "I do not like this approach too. It is too verbose. Why not using a simple function to abstract this operation? The simplest Python function example is like this.\n",
    "\n",
    "```python\n",
    "def foo(arguments):\n",
    "    return some_value\n",
    "```\n",
    "Just one tiny gotcha. Indentations in Python are important. They are used for control flow (instead of end in Matlab, and those bracket in other languages ``{}``).\n",
    "I will help you writing this function.\n",
    "\n",
    "```python\n",
    "def average(assignments):\n",
    "    return sum(assignmnets) / len(assignments)\n",
    "```\n",
    "\n",
    "So that our code becomes like this\n",
    "\n",
    "```python\n",
    ">>> assignments_average = average(assignments[0]) + average(assignments[1]) + average(assignments[2])\n",
    "```\n"
   ]
  },
  {
   "cell_type": "markdown",
   "metadata": {},
   "source": [
    "Moving on a bit. Now we are in a new week, new assignments are coming what are we going to do? Destroy them and build and start with another one? Trust me that bores as hell!\n",
    "\n",
    "In lists we can actually append items to the end of that list! Try this snippest.\n",
    "\n",
    "```python\n",
    ">>> names = [\"Ahmed\", \"Khalid\", \"Tarig\"]\n",
    ">>> names.append(\"Ameen\")\n",
    ">>> print(names)\n",
    "```\n",
    "In our example, suppose that the new week grades are stored in these variables `class1, class2, class3` respectively. \n",
    "\n",
    "```python\n",
    ">>> print(assignments)  # Let us check their structure first.\n",
    ">>> # We have list of lists\n",
    ">>> assignments[0].append(class1)\n",
    ">>> # repeat this for the rest of assignments, and make sure to set a value for class{1:3}\n",
    "```"
   ]
  },
  {
   "cell_type": "code",
   "execution_count": 12,
   "metadata": {},
   "outputs": [
    {
     "ename": "NameError",
     "evalue": "name 'sin' is not defined",
     "output_type": "error",
     "traceback": [
      "\u001b[0;31m---------------------------------------------------------------------------\u001b[0m",
      "\u001b[0;31mNameError\u001b[0m                                 Traceback (most recent call last)",
      "\u001b[0;32m<ipython-input-12-9fce30ff7c56>\u001b[0m in \u001b[0;36m<module>\u001b[0;34m()\u001b[0m\n\u001b[0;32m----> 1\u001b[0;31m \u001b[0msin\u001b[0m\u001b[0;34m(\u001b[0m\u001b[0;36m43\u001b[0m\u001b[0;34m)\u001b[0m\u001b[0;34m\u001b[0m\u001b[0m\n\u001b[0m",
      "\u001b[0;31mNameError\u001b[0m: name 'sin' is not defined"
     ]
    }
   ],
   "source": [
    "sin(43)"
   ]
  },
  {
   "cell_type": "code",
   "execution_count": null,
   "metadata": {
    "collapsed": true
   },
   "outputs": [],
   "source": []
  }
 ],
 "metadata": {
  "anaconda-cloud": {},
  "kernelspec": {
   "display_name": "Python [Root]",
   "language": "python",
   "name": "Python [Root]"
  },
  "language_info": {
   "codemirror_mode": {
    "name": "ipython",
    "version": 3
   },
   "file_extension": ".py",
   "mimetype": "text/x-python",
   "name": "python",
   "nbconvert_exporter": "python",
   "pygments_lexer": "ipython3",
   "version": "3.5.2"
  }
 },
 "nbformat": 4,
 "nbformat_minor": 2
}
