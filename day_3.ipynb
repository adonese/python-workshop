{
 "cells": [
  {
   "cell_type": "markdown",
   "metadata": {},
   "source": [
    "## A bit about terminology"
   ]
  },
  {
   "cell_type": "markdown",
   "metadata": {},
   "source": [
    "I may, or may not have mentioned a few terms that you probably could able to understand from the context. It is, however, very important to understand what they really means. You might thing of ``program`` like a really big thing with tons of lines of codes, while it might just be as simple as \n",
    "```\n",
    "print(\"Hello World!\")\n",
    "```\n",
    "I used to think of that a lot! It took me a lot of time to get over it.\n",
    "\n",
    "* A _program_ is just a code that does something. It could be as big as your operating system, or as just a hello world message.\n",
    "* Run: When you hear or read the word _run_ a computer program that means, you use a computer program to translate your human-language to a machine language, then running that machine language.\n",
    "* Compiled programming language: A compilation is the process of converting our code (in its human language form) into a machine code. Note this, in Python, we do not have such a thing as compilation step. The program that does this compilation stuff is called the `compiler`, in Python we do not have that compilation step (hence, no compiler), we have an interpreter that does all of the things on the fly! You will see later both of them has their pros and cons, but typing commands and instantly getting a result, that turns out to be exactly what data scientists (and others) need.\n",
    "* Source code. It is just your raw Python (py), or IPython (ipynb) file. \n",
    "* IDE and text editor. a text editor is a program that you use to edit text files. Whether those files are \\*.txt files, or \\*.py files. When you write small simple programs you can just use IDLE file editor or even Window' notepad, however modern text editors comes in very handy with a lot of useful features (and possibly, crappy ones). I prefer Microsoft code text editor, however there bunch of other great tools (atom, sublime, emacs, vim, and others). Modern text editors provide a very useful syntax highlighting, code completion, embedded terminals and basic debugger. \n",
    "\n",
    "-----\n",
    "These definitions are by no means accurate. If you need a more formal definition you should google them. As for this workshop concerns, those definitions are valid."
   ]
  },
  {
   "cell_type": "markdown",
   "metadata": {},
   "source": [
    "## Dataset\n",
    "\n",
    "\n",
    "|Name |hw1 |hw2 |hw3 |hw4 |hw5\n",
    "|---|----|---|---|----|----|\n",
    "|Ahmed |7 |8 |0 |0 |5\n",
    "|Khalid |7.5 |1 |0 |0\n",
    "|Ameen |9 |10 |9 |10 |8\n",
    "|Amjad |6 |7 |8 |9 |10\n",
    "|Akram |10 |9 |5 |4 |2\n",
    "..."
   ]
  },
  {
   "cell_type": "markdown",
   "metadata": {},
   "source": [
    "In the last day, we wanted to compute the grades of some students. To do that we have used lists and nested lists, we also used function to make our code even better. Now, we want to \n",
    "\n",
    "* Use another data structure called `dicts`.\n",
    "* We also want to make our code even better (refactoring it, use functions for abstraction and so on.\n",
    "* We also want to work with some-not-very-real- world data set, that needs a bit of cleaning.\n",
    "\n",
    "From the previous day we made this function \n",
    "\n",
    "```python\n",
    "def average(assignments):\n",
    "    return sum(assignmnets) / len(assignments)\n",
    "```\n",
    "go ahead and use it, or use your own. This function does really one simple thing: for each students it computes it average grade. That all it does. Using this function, and considering that we store our class grades in a list of lists (where each list corresponds to a student assignments).\n",
    "\n",
    "Our computations would be like this\n",
    "\n",
    "```python\n",
    "student_x = average(assignments[x])\n",
    "```\n",
    "where x is an interger that corresponds to the student index with respect to the list items.\n",
    "\n",
    "needless to say this is not very great (remember you have to know the place of each student within the `assignments` list.\n",
    "\n",
    "----------------------------------------\n",
    "Python has another great data structure that comes in handy for such situation. It is called `dict` or dictionary. A `dict` in Python is a mapping from key => value, or a look up data structure. You can think of it like this\n",
    "\n",
    "\n",
    "|id |hw1|hw2|hw3|hw4|hw5|\n",
    "|---|----|----|----|---|---|\n",
    "| amin | 5 | 5 | 10 | 0 | 7|\n",
    "|tarig | 6 | 7 | 7 | 5 | 0|\n",
    "|amjad | 0 | 9 | 10 | 5 | 6|\n",
    "|mohamed| 5 | 4 | 5 | 2 | 8|\n",
    "\n",
    "\n",
    "We want to store each student grades in a data structure and call it back using a key that is easy for us (e.g., his University ID, or even his *name*). We can do that using Python's `dicts` (in later days we will find that there are other types of data structure are more suitable for this case `pandas`.\n",
    "\n",
    "------------\n",
    "The syntax for making a dict is very simple `{key: value}`. You can *only* use immutable types (data structures) as keys, you cannot use a list as a key.\n",
    "\n",
    "```python\n",
    ">>> my_dict = {\"a\": 1}\n",
    "```\n",
    "Now, we can do pretty all of the things we have done with other types\n",
    "\n",
    "```python\n",
    ">>> print(my_dict)\n",
    "```\n",
    "\n",
    "We can also access specific value of our dict by using its key\n",
    "\n",
    "```python\n",
    ">>> print(my_dict[\"a\"])\n",
    "```\n",
    "We can also add other values to this dict\n",
    "\n",
    "```python\n",
    ">>> my_dict[\"b\"] = 2\n",
    ">>> print(my_dict[\"b\"]\n",
    "```\n",
    "and bunch of other cool stuffs."
   ]
  },
  {
   "cell_type": "code",
   "execution_count": 3,
   "metadata": {
    "collapsed": true
   },
   "outputs": [],
   "source": [
    "students_grades = {\"ahmed\": [7, 5, 3, 6, 7], \"khalid\": [4, 5, 7, 8, 7],\n",
    "                   \"ameen\": [1, 0, 0, 5, 0]}"
   ]
  },
  {
   "cell_type": "code",
   "execution_count": 2,
   "metadata": {},
   "outputs": [
    {
     "data": {
      "text/plain": [
       "{'ahmed': [7, 5, 3, 6, 7], 'ameen': [1, 0, 0, 5, 0], 'khalid': [4, 5, 7, 8, 7]}"
      ]
     },
     "execution_count": 2,
     "metadata": {},
     "output_type": "execute_result"
    }
   ],
   "source": [
    "students_grades"
   ]
  },
  {
   "cell_type": "markdown",
   "metadata": {},
   "source": [
    "<p style=\"color: blue; font-size:1.5em\">Exercise 1</p>\n",
    "Try to add another item to `students_grade` e.g., add \"ahmed\" and his grades are [1, 5, 6, 2, 10]. Remember to not be confused between strings and variables."
   ]
  },
  {
   "cell_type": "markdown",
   "metadata": {},
   "source": [
    "Now we have plenty of data types to make an even a better program. Previously when using only lists it was not very cool since you need to know that the third item of the list correpsonds to some student (you have to do the mapping yourself). Now, using a dict, we skipped that step! Can you imagine how that would be great?\n",
    "\n",
    "-----\n",
    "I've already made this dict of students=>grades, to save you from doing it yourself. Now, try to explore some methods (remember to use the \".\" notation) on that dict.\n",
    "\n",
    "```python\n",
    ">>> students_grades = {\n",
    "\"ahmed\": [1,3,4,5,6], \"amjad\": [4, 5, 6, 3, 1], \n",
    "\"tarig\": [0, 5, 10, 7, 10], \"mohamed\": [1, 2, 3, 0, 6], \"amna\": [0, 1, 5, 5, 10], \n",
    "\"mena\": [0, 0, 10, 10, 6], \"ruba\": [0, 0, 5, 10, 10], \"khadiga\": [10, 10, 10, 10, 10], \n",
    "\"lisa\": [10, 6, 8, 10, 9], \"mugtaba\": [7, 6, 6, 4, 4], \"ramy\": [10, 9, 7, 5, 3]\n",
    "}\n",
    "```\n",
    "You can add to this dict any other items if you would like, remeber the syntax is just\n",
    "\n",
    "```>>> students_grades[new_key] = new_value```"
   ]
  },
  {
   "cell_type": "code",
   "execution_count": 4,
   "metadata": {
    "collapsed": true
   },
   "outputs": [],
   "source": [
    "students_grades = {\n",
    "\"ahmed\": [1,3,4,5,6], \"amjad\": [4, 5, 6, 3, 1], \n",
    "\"tarig\": [0, 5, 10, 7, 10], \"mohamed\": [1, 2, 3, 0, 6], \"amna\": [0, 1, 5, 5, 10], \n",
    "\"mena\": [0, 0, 10, 10, 6], \"ruba\": [0, 0, 5, 10, 10], \"khadiga\": [10, 10, 10, 10, 10], \n",
    "\"lisa\": [10, 6, 8, 10, 9], \"mugtaba\": [7, 6, 6, 4, 4], \"ramy\": [10, 9, 7, 5, 3]\n",
    "}"
   ]
  },
  {
   "cell_type": "markdown",
   "metadata": {},
   "source": [
    "<p style=\"color: blue; font-size:1.5em;\">Exercise 2</p>\n",
    "What is the type of students_grades values? E.g., `students_grades[\"ahmed\"]` will return what?"
   ]
  },
  {
   "cell_type": "markdown",
   "metadata": {
    "collapsed": true
   },
   "source": [
    "## Using `dict`\n",
    "\n",
    "Let us start with our whole-new data structure and rewrite our program accordingly. A starter code is provided for you. Before we head to implement our program, let us recall what our program is supposed to do, and how are we going to do that `(pseudo-code)`.\n",
    "\n",
    "We want to have a main function called `compute_students_grades`, that as the names implies, computes the grades for the students. Now let us see how can we do that. I mean somebody needs to code that program, right? All I've told you is that our program can compute a student grade. That is not useful, that is more like a hope or something like that. It would be great if we were given a recipe (or made it ourselves)\n",
    "\n",
    "`compute_students_grades` recipe (or algoirthm)\n",
    "* Our function takes in a dictionary with keys of students names (or ids), and values as a list of their assignments grades.\n",
    "* For each students, we want to compute its average grade from that list of his grades.\n",
    "* We have to store that value in the previous in somewhere so that we can access it later. There are plenty of ways for doing this, we will discuss them later.\n",
    "* Remember that all your computations in Python (or any other language) are stored in your RAM. Whenever you close your Python, or your computer shuts down you lose it (you have to recompute it). It would be great if we use could store them in a persistent place e.g., your hard drive. \n",
    "\n",
    "First let us start with a toy example. Let us compute the average grade for only one student. \n",
    "\n",
    "Consider this function\n",
    "\n",
    "\n",
    "```python\n",
    "def nthroot(x, n):\n",
    "    # where x is the number to take its root,\n",
    "    # n is the power.\n",
    "    return x ** 1/n\n",
    "```\n",
    "\n",
    "```python\n",
    ">>> a = nthroot(5, 4)\n",
    ">>> print(a)\n",
    "```\n",
    "\n",
    "We can have a function that has multiple arguments, and even returns multiple outputs (more on that later.)\n",
    "\n",
    "Now back to our example. We want to make a function that takes in a `dictionary` and a key and return the average grade for that key. We could actually dropped the dictionary and hard coded it but that would be a bad practice. You might want to use this code for other assignments do not you?\n",
    "\n",
    "```python\n",
    "def average(assignments, key):\n",
    "    # assignments is a dictionary\n",
    "    print(assignments[key], type(assignments[key]))\n",
    "    # The previous line is used to give you an idea about the `assignment' variable, and its type too\n",
    "    # your code goes here...\n",
    "    \n",
    "```\n",
    "\n",
    "```python\n",
    ">>> ahmed = students_grade[\"ahmed\"]\n",
    ">>> ahmed_grade = average(ahmed, \"ahmed\")\n",
    ">>> print(ahmed_grade)\n",
    "```\n"
   ]
  },
  {
   "cell_type": "code",
   "execution_count": 4,
   "metadata": {
    "collapsed": true
   },
   "outputs": [],
   "source": [
    "def nthroot(x, n):\n",
    "    # where x is the number to take its root,\n",
    "    # n is the power.\n",
    "    return x ** 1/n"
   ]
  },
  {
   "cell_type": "markdown",
   "metadata": {},
   "source": [
    "## Loops in Python\n",
    "\n",
    "In the previous toy example, our function `average` only computes the average grade for one student. To compute for the rest of the class students we need to use some loop logic. \n",
    "\n",
    "```python\n",
    ">>> list_things = [\"ahmed\", 1,  4, \"khalid\"]\n",
    ">>> for item in list_things:\n",
    ">>>     print(item)\n",
    "```\n",
    "This is basically how to use a loop in Python. An alternative way of using loops is like this\n",
    "\n",
    "```python\n",
    ">>> list_things = [\"ahmed\", 1,  4, \"khalid\"]\n",
    ">>> for item in range(len(list_things)):\n",
    ">>>     print(item)\n",
    ">>> # Which will print to you only integers from 0 - len(list_things) - 1\n",
    ">>> # Which is not exactly what you wanted. You can use Python indexing to handle that\n",
    ">>> # \n",
    ">>> # Try to do this\n",
    ">>> for item in range(len(list_things)):\n",
    ">>>     print(list_things[item])\n",
    "```\n",
    "\n",
    "The question is, can I iterate over a dictionary? Lists are actually called iterables, and so does dicts. That means you can iterate through them.\n",
    "\n",
    "```python\n",
    ">>> names = {\"ahmed\": 10, \"khalid\": 7, \"ramy\": 10}\n",
    ">>> for name in names:\n",
    ">>>    print(name)\n",
    "```\n",
    "and that will _iterate_ you through `names` values. You can also iterate over keys, or values, or even pairs.\n",
    "\n",
    "```python\n",
    ">>> names = {\"ahmed\": 10, \"khalid\": 7, \"ramy\": 10}\n",
    ">>> # Iterating through `names` keys\n",
    ">>> for key in names.keys():\n",
    ">>>     print(key)\n",
    "\n",
    ">>> # Or you can also iterate through the key,value pair\n",
    ">>> names = {\"ahmed\": 10, \"khalid\": 7, \"ramy\": 10}\n",
    ">>> # Iterating through `names` keys\n",
    ">>> for pair in names.items():\n",
    ">>>     print(pair)\n",
    "```\n",
    "\n",
    "<p style=\"color:blue; font-size:1.5em\">Exercise 3</p>"
   ]
  },
  {
   "cell_type": "code",
   "execution_count": 32,
   "metadata": {},
   "outputs": [
    {
     "ename": "SyntaxError",
     "evalue": "invalid syntax (style.css, line 2)",
     "output_type": "error",
     "traceback": [
      "\u001b[0;36m  File \u001b[0;32m\"/home/adonese/teaching/python-workshop/style.css\"\u001b[0;36m, line \u001b[0;32m2\u001b[0m\n\u001b[0;31m    {color: red;\u001b[0m\n\u001b[0m               ^\u001b[0m\n\u001b[0;31mSyntaxError\u001b[0m\u001b[0;31m:\u001b[0m invalid syntax\n"
     ]
    }
   ],
   "source": [
    "%run style.css"
   ]
  },
  {
   "cell_type": "code",
   "execution_count": 12,
   "metadata": {},
   "outputs": [
    {
     "name": "stdout",
     "output_type": "stream",
     "text": [
      "Day 2.ipynb  day_3.ipynb  \u001b[0m\u001b[01;35mlists_1.png\u001b[0m  \u001b[01;35mlists.png\u001b[0m  style.css\r\n"
     ]
    }
   ],
   "source": [
    "ls"
   ]
  },
  {
   "cell_type": "code",
   "execution_count": 35,
   "metadata": {
    "collapsed": true
   },
   "outputs": [],
   "source": [
    "%magic"
   ]
  },
  {
   "cell_type": "code",
   "execution_count": 36,
   "metadata": {},
   "outputs": [
    {
     "data": {
      "text/plain": [
       "'5'"
      ]
     },
     "execution_count": 36,
     "metadata": {},
     "output_type": "execute_result"
    }
   ],
   "source": []
  },
  {
   "cell_type": "code",
   "execution_count": null,
   "metadata": {
    "collapsed": true
   },
   "outputs": [],
   "source": []
  }
 ],
 "metadata": {
  "anaconda-cloud": {},
  "kernelspec": {
   "display_name": "Python [Root]",
   "language": "python",
   "name": "Python [Root]"
  },
  "language_info": {
   "codemirror_mode": {
    "name": "ipython",
    "version": 3
   },
   "file_extension": ".py",
   "mimetype": "text/x-python",
   "name": "python",
   "nbconvert_exporter": "python",
   "pygments_lexer": "ipython3",
   "version": "3.5.2"
  }
 },
 "nbformat": 4,
 "nbformat_minor": 2
}
